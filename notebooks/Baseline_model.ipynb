{
 "cells": [
  {
   "cell_type": "markdown",
   "metadata": {},
   "source": [
    "# Baseline model:\n",
    "This notebook contains our baseline model without feature engineering. We will test out  3 different classification models on our data set to see which performs best. We will then perform feature selection and hyperparameter tuning."
   ]
  },
  {
   "cell_type": "markdown",
   "metadata": {},
   "source": [
    "## Needed libraries:"
   ]
  },
  {
   "cell_type": "code",
   "execution_count": 134,
   "metadata": {},
   "outputs": [
    {
     "name": "stdout",
     "output_type": "stream",
     "text": [
      "The lab_black extension is already loaded. To reload it, use:\n",
      "  %reload_ext lab_black\n"
     ]
    }
   ],
   "source": [
    "%load_ext lab_black\n",
    "%matplotlib inline"
   ]
  },
  {
   "cell_type": "code",
   "execution_count": 140,
   "metadata": {},
   "outputs": [],
   "source": [
    "# data frame and visualization libraries\n",
    "import pandas as pd\n",
    "import numpy as np\n",
    "import matplotlib as mpl\n",
    "import matplotlib.pyplot as plt\n",
    "import seaborn as sns\n",
    "import lantern as lt\n",
    "import warnings\n",
    "\n",
    "# validation and split libraries\n",
    "from sklearn.model_selection import train_test_split\n",
    "\n",
    "# Statistical model libraries"
   ]
  },
  {
   "cell_type": "markdown",
   "metadata": {},
   "source": [
    "### Functions we will use"
   ]
  },
  {
   "cell_type": "code",
   "execution_count": 141,
   "metadata": {},
   "outputs": [],
   "source": [
    "from sklearn.metrics import roc_auc_score\n",
    "\n",
    "\n",
    "def scores(model, X_train, X_val, y_train, y_val):\n",
    "    train_prob = model.predict_proba(X_train)[:, 1]\n",
    "    val_prob = model.predict_proba(X_val)[:, 1]\n",
    "    train = roc_auc_score(y_train, train_prob)\n",
    "    val = roc_auc_score(y_val, val_prob)\n",
    "    print(\"train:\", round(train, 2), \"test:\", round(val, 2))"
   ]
  },
  {
   "cell_type": "code",
   "execution_count": 142,
   "metadata": {},
   "outputs": [],
   "source": [
    "def annot(fpr, tpr, thr):\n",
    "    k = 0\n",
    "    for i, j in zip(fpr, tpr):\n",
    "        if k % 50 == 0:\n",
    "            plt.annotate(round(thr[k], 2), xy=(i, j), textcoords=\"data\")\n",
    "        k += 1"
   ]
  },
  {
   "cell_type": "code",
   "execution_count": 143,
   "metadata": {},
   "outputs": [],
   "source": [
    "from sklearn.metrics import roc_curve\n",
    "\n",
    "\n",
    "def roc_plot(model, X_train, y_train, X_val, y_val):\n",
    "    train_prob = model.predict_proba(X_train)[:, 1]\n",
    "    val_prob = model.predict_proba(X_val)[:, 1]\n",
    "    plt.figure(figsize=(7, 7))\n",
    "    for data in [[y_train, train_prob], [y_val, val_prob]]:  # ,[y_test, test_prob]\n",
    "        fpr, tpr, threshold = roc_curve(data[0], data[1])\n",
    "        plt.plot(fpr, tpr)\n",
    "    annot(fpr, tpr, threshold)\n",
    "    plt.plot([0, 1], [0, 1], color=\"navy\", linestyle=\"--\")\n",
    "    plt.ylabel(\"TPR (power)\")\n",
    "    plt.xlabel(\"FPR (alpha)\")\n",
    "    plt.legend([\"train\", \"val\"])\n",
    "    plt.show()"
   ]
  },
  {
   "cell_type": "code",
   "execution_count": 144,
   "metadata": {},
   "outputs": [],
   "source": [
    "def opt_plots(opt_model):\n",
    "    opt = pd.DataFrame(opt_model.cv_results_)\n",
    "    cols = [\n",
    "        col\n",
    "        for col in opt.columns\n",
    "        if (\"mean\" in col or \"std\" in col) and \"time\" not in col\n",
    "    ]\n",
    "    params = pd.DataFrame(list(opt.params))\n",
    "    opt = pd.concat([params, opt[cols]], axis=1, sort=False)\n",
    "\n",
    "    plt.figure(figsize=[15, 4])\n",
    "    plt.subplot(121)\n",
    "    sns.heatmap(\n",
    "        pd.pivot_table(\n",
    "            opt,\n",
    "            index=\"max_depth\",\n",
    "            columns=\"min_samples_leaf\",\n",
    "            values=\"mean_train_score\",\n",
    "        )\n",
    "        * 100\n",
    "    )\n",
    "    plt.title(\"ROC_AUC - Training\")\n",
    "    plt.subplot(122)\n",
    "    sns.heatmap(\n",
    "        pd.pivot_table(\n",
    "            opt, index=\"max_depth\", columns=\"min_samples_leaf\", values=\"mean_test_score\"\n",
    "        )\n",
    "        * 100\n",
    "    )\n",
    "    plt.title(\"ROC_AUC - Validation\")\n",
    "\n",
    "\n",
    "#     return opt"
   ]
  },
  {
   "cell_type": "markdown",
   "metadata": {},
   "source": [
    "## Load the Data:"
   ]
  },
  {
   "cell_type": "code",
   "execution_count": 145,
   "metadata": {},
   "outputs": [],
   "source": [
    "baseline_df = pd.read_csv(\"../data/telecom_cleaned.csv\")"
   ]
  },
  {
   "cell_type": "code",
   "execution_count": 146,
   "metadata": {},
   "outputs": [
    {
     "name": "stdout",
     "output_type": "stream",
     "text": [
      "-----------------------------------------\n",
      "The Dataframe has: 22 columns\n",
      "The Dataframe has: 3333 rows\n",
      "-----------------------------------------\n"
     ]
    }
   ],
   "source": [
    "print(\"-----------------------------------------\")\n",
    "print(\"The Dataframe has:\", baseline_df.shape[1], \"columns\")\n",
    "print(\"The Dataframe has:\", baseline_df.shape[0], \"rows\")\n",
    "print(\"-----------------------------------------\")"
   ]
  },
  {
   "cell_type": "code",
   "execution_count": 147,
   "metadata": {
    "scrolled": true
   },
   "outputs": [
    {
     "data": {
      "text/plain": [
       "['Unnamed: 0',\n",
       " 'state',\n",
       " 'account_length',\n",
       " 'area_code',\n",
       " 'phone_number',\n",
       " 'international_plan',\n",
       " 'voice_mail_plan',\n",
       " 'number_vmail_messages',\n",
       " 'total_day_minutes',\n",
       " 'total_day_calls',\n",
       " 'total_day_charge',\n",
       " 'total_eve_minutes',\n",
       " 'total_eve_calls',\n",
       " 'total_eve_charge',\n",
       " 'total_night_minutes',\n",
       " 'total_night_calls',\n",
       " 'total_night_charge',\n",
       " 'total_intl_minutes',\n",
       " 'total_intl_calls',\n",
       " 'total_intl_charge',\n",
       " 'customer_service_calls',\n",
       " 'churn']"
      ]
     },
     "execution_count": 147,
     "metadata": {},
     "output_type": "execute_result"
    }
   ],
   "source": [
    "list(baseline_df.columns)"
   ]
  },
  {
   "cell_type": "markdown",
   "metadata": {},
   "source": [
    "## Create Train/Test/Split and Validation sets"
   ]
  },
  {
   "cell_type": "code",
   "execution_count": 148,
   "metadata": {},
   "outputs": [],
   "source": [
    "X = baseline_df.drop(\n",
    "    [\n",
    "        \"Unnamed: 0\",\n",
    "        \"churn\",\n",
    "        \"state\",\n",
    "        \"phone_number\",\n",
    "        \"international_plan\",\n",
    "        \"voice_mail_plan\",\n",
    "    ],\n",
    "    axis=1,\n",
    ")\n",
    "y = baseline_df.loc[:, [\"churn\"]]"
   ]
  },
  {
   "cell_type": "code",
   "execution_count": 149,
   "metadata": {},
   "outputs": [],
   "source": [
    "# Create our train and test set\n",
    "X_train, X_test, y_train, y_test = train_test_split(X, y, test_size=0.2, random_state=1)\n",
    "# Create our validation set\n",
    "X_train, X_val, y_train, y_val = train_test_split(\n",
    "    X_train, y_train, test_size=0.2, random_state=1\n",
    ")"
   ]
  },
  {
   "cell_type": "code",
   "execution_count": 150,
   "metadata": {},
   "outputs": [
    {
     "name": "stdout",
     "output_type": "stream",
     "text": [
      "------------------------------------------------\n",
      "The X and Y Train shape is: (2132, 16) (2132, 1)\n",
      "The X and Y Val shape is: (534, 16) (534, 1)\n",
      "The X and Y Test shape is: (667, 16) (667, 1)\n",
      "Totals : 3333 Rows\n",
      "------------------------------------------------\n"
     ]
    }
   ],
   "source": [
    "print(\"------------------------------------------------\")\n",
    "print(\"The X and Y Train shape is:\", X_train.shape, y_train.shape)\n",
    "print(\"The X and Y Val shape is:\", X_val.shape, y_val.shape)\n",
    "print(\"The X and Y Test shape is:\", X_test.shape, y_test.shape)\n",
    "print(\"Totals :\", X_train.shape[0] + X_val.shape[0] + X_test.shape[0], \"Rows\")\n",
    "print(\"------------------------------------------------\")"
   ]
  },
  {
   "cell_type": "code",
   "execution_count": 151,
   "metadata": {},
   "outputs": [
    {
     "data": {
      "text/plain": [
       "False    2850\n",
       "True      483\n",
       "Name: churn, dtype: int64"
      ]
     },
     "execution_count": 151,
     "metadata": {},
     "output_type": "execute_result"
    }
   ],
   "source": [
    "baseline_df[\"churn\"].value_counts()"
   ]
  },
  {
   "cell_type": "markdown",
   "metadata": {},
   "source": [
    "## Logistic regression"
   ]
  },
  {
   "cell_type": "code",
   "execution_count": 152,
   "metadata": {},
   "outputs": [],
   "source": [
    "from sklearn.linear_model import LogisticRegression"
   ]
  },
  {
   "cell_type": "code",
   "execution_count": 153,
   "metadata": {},
   "outputs": [],
   "source": [
    "model = LogisticRegression(random_state=1)"
   ]
  },
  {
   "cell_type": "code",
   "execution_count": null,
   "metadata": {},
   "outputs": [],
   "source": []
  },
  {
   "cell_type": "markdown",
   "metadata": {},
   "source": [
    "## Naive Bayes"
   ]
  },
  {
   "cell_type": "code",
   "execution_count": 154,
   "metadata": {},
   "outputs": [],
   "source": [
    "from sklearn.naive_bayes import GaussianNB"
   ]
  },
  {
   "cell_type": "code",
   "execution_count": 155,
   "metadata": {},
   "outputs": [],
   "source": [
    "model = GaussianNB()"
   ]
  },
  {
   "cell_type": "markdown",
   "metadata": {},
   "source": [
    "## Decision tree"
   ]
  },
  {
   "cell_type": "code",
   "execution_count": 156,
   "metadata": {},
   "outputs": [],
   "source": [
    "from sklearn.tree import DecisionTreeClassifier"
   ]
  },
  {
   "cell_type": "code",
   "execution_count": 157,
   "metadata": {},
   "outputs": [],
   "source": [
    "model = DecisionTreeClassifier(random_state=140)"
   ]
  },
  {
   "cell_type": "code",
   "execution_count": 158,
   "metadata": {},
   "outputs": [
    {
     "data": {
      "text/plain": [
       "DecisionTreeClassifier(ccp_alpha=0.0, class_weight=None, criterion='gini',\n",
       "                       max_depth=None, max_features=None, max_leaf_nodes=None,\n",
       "                       min_impurity_decrease=0.0, min_impurity_split=None,\n",
       "                       min_samples_leaf=1, min_samples_split=2,\n",
       "                       min_weight_fraction_leaf=0.0, presort='deprecated',\n",
       "                       random_state=140, splitter='best')"
      ]
     },
     "execution_count": 158,
     "metadata": {},
     "output_type": "execute_result"
    }
   ],
   "source": [
    "model.fit(X_train, y_train)"
   ]
  },
  {
   "cell_type": "code",
   "execution_count": 159,
   "metadata": {},
   "outputs": [],
   "source": [
    "from sklearn.metrics import roc_curve, roc_auc_score"
   ]
  },
  {
   "cell_type": "code",
   "execution_count": 160,
   "metadata": {},
   "outputs": [
    {
     "name": "stdout",
     "output_type": "stream",
     "text": [
      "train: 1.0 test: 0.75\n"
     ]
    },
    {
     "data": {
      "image/png": "[encoded data removed]",
      "text/plain": [
       "<Figure size 504x504 with 1 Axes>"
      ]
     },
     "metadata": {
      "needs_background": "light"
     },
     "output_type": "display_data"
    }
   ],
   "source": [
    "scores(model, X_train, X_val, y_train, y_val)\n",
    "roc_plot(model, X_train, y_train, X_val, y_val)"
   ]
  },
  {
   "cell_type": "markdown",
   "metadata": {},
   "source": [
    "Totally not suspicious at all "
   ]
  },
  {
   "cell_type": "code",
   "execution_count": null,
   "metadata": {},
   "outputs": [],
   "source": []
  }
 ],
 "metadata": {
  "kernelspec": {
   "display_name": "Python 3",
   "language": "python",
   "name": "python3"
  },
  "language_info": {
   "codemirror_mode": {
    "name": "ipython",
    "version": 3
   },
   "file_extension": ".py",
   "mimetype": "text/x-python",
   "name": "python",
   "nbconvert_exporter": "python",
   "pygments_lexer": "ipython3",
   "version": "3.7.4"
  }
 },
 "nbformat": 4,
 "nbformat_minor": 4
}
